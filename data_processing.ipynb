{
 "cells": [
  {
   "cell_type": "code",
   "execution_count": 2,
   "metadata": {},
   "outputs": [],
   "source": [
    "import pandas as pd\n",
    "def read_from_csv(data_name, header=0, names=None):\n",
    "    if \"tsv\" in data_name:\n",
    "        data = pd.read_csv(data_name,\n",
    "                            sep='\\t',\n",
    "                            encoding = \"utf-8\",\n",
    "                            engine = \"python\",\n",
    "                            header = header,\n",
    "                            names = names)\n",
    "    elif \"csv\" in data_name:\n",
    "        data = pd.read_csv(data_name,\n",
    "                        encoding = \"utf-8\",\n",
    "                        engine = \"python\",\n",
    "                        header = header,\n",
    "                        names = names)\n",
    "    else:\n",
    "        raise NotImplementedError(\"Given data file type is not supported yet.\")\n",
    "    return data\n",
    "\n",
    "def print_data_info(data, split, label_col):\n",
    "    label_counts = data[label_col].value_counts().to_dict()\n",
    "    output = f\"{split}\\t{len(data)}\"\n",
    "    for label in sorted(label_counts.keys()):\n",
    "        output += f\"\\t{label}: {label_counts[label]}, \"\n",
    "        output += \"{:.1%}\".format(label_counts[label]/len(data))\n",
    "    print(output)"
   ]
  },
  {
   "cell_type": "code",
   "execution_count": 22,
   "metadata": {},
   "outputs": [
    {
     "name": "stdout",
     "output_type": "stream",
     "text": [
      "AMI\n",
      "Multi - {\"discredit\": 0, \"stereotype\": 1, \"dominance\": 2, \"sexual harassment\": 3, \"derailing\": 4}\n"
     ]
    },
    {
     "data": {
      "text/plain": [
       "{0: 141, 1: 140, 2: 124, 3: 44, 4: 11}"
      ]
     },
     "execution_count": 22,
     "metadata": {},
     "output_type": "execute_result"
    }
   ],
   "source": [
    "# AMI\n",
    "# https://live.european-language-grid.eu/catalogue/corpus/7272/download/\n",
    "train_data = read_from_csv(\"data/ami/train.tsv\")\n",
    "test_data = read_from_csv(\"data/ami/test.tsv\")\n",
    "print('AMI\\nMulti - {\"discredit\": 0, \"stereotype\": 1, \"dominance\": 2, \"sexual harassment\": 3, \"derailing\": 4}')\n",
    "category2index = {\"discredit\": 0, \"stereotype\": 1, \"dominance\": 2, \"sexual_harassment\": 3, \"derailing\": 4}\n",
    "train_misogynous = train_data[train_data[\"misogynous\"] != 0].reset_index(drop=True)\n",
    "train_misogynous[\"label_multi\"] = train_misogynous['misogyny_category'].map(category2index)\n",
    "train_misogynous.to_csv(\"./data/ami/train_clean.csv\", index=False)\n",
    "# dict(train_misogynous.label_multi.value_counts()) # {0: 1014, 3: 352, 1: 179, 2: 148, 4: 92}\n",
    "test_misogynous = test_data[test_data[\"misogynous\"] != 0].reset_index(drop=True)\n",
    "test_misogynous[\"label_multi\"] = test_misogynous['misogyny_category'].map(category2index)\n",
    "test_misogynous.to_csv(\"./data/ami/test_clean.csv\", index=False)\n",
    "# dict(test_misogynous.label_multi.value_counts()) # {0: 141, 1: 140, 2: 124, 3: 44, 4: 11}"
   ]
  },
  {
   "cell_type": "code",
   "execution_count": 26,
   "metadata": {},
   "outputs": [
    {
     "data": {
      "text/html": [
       "<div>\n",
       "<style scoped>\n",
       "    .dataframe tbody tr th:only-of-type {\n",
       "        vertical-align: middle;\n",
       "    }\n",
       "\n",
       "    .dataframe tbody tr th {\n",
       "        vertical-align: top;\n",
       "    }\n",
       "\n",
       "    .dataframe thead th {\n",
       "        text-align: right;\n",
       "    }\n",
       "</style>\n",
       "<table border=\"1\" class=\"dataframe\">\n",
       "  <thead>\n",
       "    <tr style=\"text-align: right;\">\n",
       "      <th></th>\n",
       "      <th>tweet_id</th>\n",
       "      <th>label</th>\n",
       "      <th>text</th>\n",
       "    </tr>\n",
       "  </thead>\n",
       "  <tbody>\n",
       "    <tr>\n",
       "      <th>0</th>\n",
       "      <td>260403351269814272</td>\n",
       "      <td>0</td>\n",
       "      <td>You have ruined everything in my life. You sho...</td>\n",
       "    </tr>\n",
       "    <tr>\n",
       "      <th>1</th>\n",
       "      <td>260419381920686080</td>\n",
       "      <td>1</td>\n",
       "      <td>You cared when i busted your ass in 2k RT @Dlo...</td>\n",
       "    </tr>\n",
       "    <tr>\n",
       "      <th>2</th>\n",
       "      <td>260418970878894080</td>\n",
       "      <td>0</td>\n",
       "      <td>I'm just really not in the mood for this whole...</td>\n",
       "    </tr>\n",
       "    <tr>\n",
       "      <th>3</th>\n",
       "      <td>260418962486067200</td>\n",
       "      <td>0</td>\n",
       "      <td>i have woke up twice out my good sleep , to fi...</td>\n",
       "    </tr>\n",
       "    <tr>\n",
       "      <th>4</th>\n",
       "      <td>261837467689304065</td>\n",
       "      <td>1</td>\n",
       "      <td>@GuyAdami Y r U on Fast? U always wrong. plus ...</td>\n",
       "    </tr>\n",
       "    <tr>\n",
       "      <th>...</th>\n",
       "      <td>...</td>\n",
       "      <td>...</td>\n",
       "      <td>...</td>\n",
       "    </tr>\n",
       "    <tr>\n",
       "      <th>4117</th>\n",
       "      <td>270957486801043456</td>\n",
       "      <td>0</td>\n",
       "      <td>Staying in after school to catch up, since my ...</td>\n",
       "    </tr>\n",
       "    <tr>\n",
       "      <th>4118</th>\n",
       "      <td>271036092290068480</td>\n",
       "      <td>0</td>\n",
       "      <td>Compton College is the greatest place ever. I ...</td>\n",
       "    </tr>\n",
       "    <tr>\n",
       "      <th>4119</th>\n",
       "      <td>271680047969087488</td>\n",
       "      <td>0</td>\n",
       "      <td>@Aideen61 I'm ready and waiting :D You coming ...</td>\n",
       "    </tr>\n",
       "    <tr>\n",
       "      <th>4120</th>\n",
       "      <td>271287985394315264</td>\n",
       "      <td>1</td>\n",
       "      <td>Have a great day at school my niggys.. &amp;lt;3</td>\n",
       "    </tr>\n",
       "    <tr>\n",
       "      <th>4121</th>\n",
       "      <td>285448190596091904</td>\n",
       "      <td>1</td>\n",
       "      <td>Going to School doesn't make you Smart, Learni...</td>\n",
       "    </tr>\n",
       "  </tbody>\n",
       "</table>\n",
       "<p>4122 rows × 3 columns</p>\n",
       "</div>"
      ],
      "text/plain": [
       "                tweet_id  label  \\\n",
       "0     260403351269814272      0   \n",
       "1     260419381920686080      1   \n",
       "2     260418970878894080      0   \n",
       "3     260418962486067200      0   \n",
       "4     261837467689304065      1   \n",
       "...                  ...    ...   \n",
       "4117  270957486801043456      0   \n",
       "4118  271036092290068480      0   \n",
       "4119  271680047969087488      0   \n",
       "4120  271287985394315264      1   \n",
       "4121  285448190596091904      1   \n",
       "\n",
       "                                                   text  \n",
       "0     You have ruined everything in my life. You sho...  \n",
       "1     You cared when i busted your ass in 2k RT @Dlo...  \n",
       "2     I'm just really not in the mood for this whole...  \n",
       "3     i have woke up twice out my good sleep , to fi...  \n",
       "4     @GuyAdami Y r U on Fast? U always wrong. plus ...  \n",
       "...                                                 ...  \n",
       "4117  Staying in after school to catch up, since my ...  \n",
       "4118  Compton College is the greatest place ever. I ...  \n",
       "4119  @Aideen61 I'm ready and waiting :D You coming ...  \n",
       "4120       Have a great day at school my niggys.. &lt;3  \n",
       "4121  Going to School doesn't make you Smart, Learni...  \n",
       "\n",
       "[4122 rows x 3 columns]"
      ]
     },
     "execution_count": 26,
     "metadata": {},
     "output_type": "execute_result"
    }
   ],
   "source": [
    "# Bretschneider-TH: bin - 0: neutral, 1: harassment\n",
    "merged_data = read_from_csv(\"data/bretschneider-th/merged_data.csv\")\n",
    "merged_data = merged_data.dropna().reset_index(drop=True)\n",
    "merged_data = merged_data.drop_duplicates().reset_index(drop=True)\n",
    "\n",
    "school_data = read_from_csv(\"data/bretschneider-th/school_labels.csv\")\n",
    "school_data = school_data.rename(columns={\"tweetId\": \"tweet_id\"})\n",
    "school_data = school_data[[\"tweet_id\", \"bullyLabel\"]]\n",
    "school_data = school_data.drop_duplicates().reset_index(drop=True)\n",
    "school_data = school_data.merge(merged_data, on='tweet_id')\n",
    "# school_data.to_csv(\"./data/bretschneider-th/school_data_clean.csv\", index=False)\n",
    "# school_data.label.value_counts() # 1285, 111\n",
    "\n",
    "main_data = read_from_csv(\"data/bretschneider-th/main_labels.csv\")\n",
    "main_data = main_data.rename(columns={\"tweetId\": \"tweet_id\"})\n",
    "main_data = main_data[[\"tweet_id\", \"bullyLabel\"]]\n",
    "main_data = main_data.drop_duplicates().reset_index(drop=True)\n",
    "main_data = main_data.merge(merged_data, on='tweet_id')\n",
    "# main_data.to_csv(\"./data/bretschneider-th/main_data_clean.csv\", index=False)\n",
    "# main_data.label.value_counts() # 2713, 185"
   ]
  },
  {
   "cell_type": "code",
   "execution_count": 30,
   "metadata": {},
   "outputs": [],
   "source": [
    "# CMSB - TSD\n",
    "# https://search.gesis.org/research_data/SDN-10.7802-2251\n",
    "data = read_from_csv(\"data/cmsb-tsd/sexism_data.csv\")\n",
    "data[\"label\"] = 0\n",
    "data[\"label\"] = data[\"label\"].where(data[\"sexist\"] == False, 1)\n",
    "# data.label.value_counts().to_dict() # {0: 11822, 1: 1809}\n",
    "data.to_csv(\"./data/cmsb-tsd/data_clean.csv\", index=False)"
   ]
  },
  {
   "cell_type": "code",
   "execution_count": 29,
   "metadata": {},
   "outputs": [
    {
     "data": {
      "text/plain": [
       "{0: 1.2, 1: 0.1, 2: 0.4}"
      ]
     },
     "execution_count": 29,
     "metadata": {},
     "output_type": "execute_result"
    }
   ],
   "source": [
    "# Davidson-THON: multi - 0: hate speech, 1: offensive language, 2: neither\n",
    "data = read_from_csv(\"data/davidson-thon/davidson-thon.csv\")\n",
    "data = data.rename(columns={\"tweet\": \"text\"})\n",
    "data = data.rename(columns={\"class\": \"label_multi\"})\n",
    "data = data[[\"text\", \"label_multi\"]]\n",
    "# data.to_csv(\"./data/davidson-thon/data_clean.csv\", index=False)\n",
    "data.label_multi.value_counts().to_dict()\n",
    "lc = [858, 11514, 2497]\n",
    "{label: round((1/count)*1000, 1) for label, count in enumerate(lc)} # {0: 1.2, 1: 0.1, 2: 0.4}"
   ]
  },
  {
   "cell_type": "code",
   "execution_count": null,
   "metadata": {},
   "outputs": [],
   "source": [
    "# Founta 2018 - THAS: multi - normal, spam, abusive, hateful\n",
    "data = read_from_csv(\"data/founta-2018-thas/large_scale_hatespeechtwitter.csv\", header=None, names=['id', 'text', 'class'])\n",
    "data = data.dropna().reset_index(drop=True)\n",
    "class2label = {\"normal\": 0, \"spam\": 1, \"abusive\": 2, \"hateful\": 3}\n",
    "data[\"label_multi\"] = data[\"class\"].map(class2label)\n",
    "data = data.dropna().reset_index(drop=True)\n",
    "data.to_csv(\"./data/founta-2018-thas/data_clean.csv\", index=False)\n",
    "# dict(data.label_multi.value_counts()) # {0: 33325, 1: 7555, 2: 3934, 3: 1638}\n",
    "# lc = [19994, 4533, 2360, 983]\n",
    "# {label: round((1/count)*1000, 1) for label, count in enumerate(lc)} # {0: 0.1, 1: 0.2, 2: 0.4, 3: 1.0}"
   ]
  },
  {
   "cell_type": "code",
   "execution_count": 24,
   "metadata": {},
   "outputs": [
    {
     "data": {
      "text/plain": [
       "{0: 1093, 1: 435}"
      ]
     },
     "execution_count": 24,
     "metadata": {},
     "output_type": "execute_result"
    }
   ],
   "source": [
    "# Gao 2018 FHC - bin\n",
    "data = read_from_csv(\"data/gao-2018-fhc/data_clean.csv\")\n",
    "dict(data.label.value_counts()) # {0: 1093, 1: 435}"
   ]
  },
  {
   "cell_type": "code",
   "execution_count": 20,
   "metadata": {},
   "outputs": [],
   "source": [
    "# Gibert 2018 - SHS binary\n",
    "data_annotations = read_from_csv(\"data/gibert-2018-shs/annotations_metadata.csv\")\n",
    "# print(dict(data_annotations.label.value_counts())) # {'noHate': 9507, 'hate': 1196, 'relation': 168, 'idk/skip': 73}\n",
    "data_annotations = data_annotations.rename(columns={\"label\": \"class\"})\n",
    "class2label = {\"noHate\": 0, \"hate\": 1, \"relation\": -1, \"idk/skip\": -1}\n",
    "data_annotations[\"label\"] = data_annotations[\"class\"].map(class2label)\n",
    "data_annotations = data_annotations[data_annotations[\"label\"] != -1].reset_index(drop=True)\n",
    "# dict(data_annotations.label.value_counts()) # {0: 9507, 1: 1196}\n",
    "def get_text_by_file_id(file_id):\n",
    "    with open(f\"data/gibert-2018-shs/all_files/{file_id}.txt\", \"r\") as f:\n",
    "        text = f.readlines()[0]\n",
    "    return text\n",
    "data_annotations[\"text\"] = data_annotations.apply(lambda row: get_text_by_file_id(row.file_id), axis=1)\n",
    "data = data_annotations[[\"text\", \"label\"]]\n",
    "# data.to_csv(\"./data/gibert-2018-shs/data_clean.csv\", index=False)\n",
    "# data"
   ]
  },
  {
   "cell_type": "code",
   "execution_count": 42,
   "metadata": {},
   "outputs": [],
   "source": [
    "# Twitter hate speech - TSA: binary - not hate speech, hate speech\n",
    "data = read_from_csv(\"data/twitter-hate-speech-tsa/data.csv\")\n",
    "data = data.rename(columns={\"tweet\": \"text\"})\n",
    "data.to_csv(\"./data/twitter-hate-speech-tsa/data_clean.csv\", index=False)"
   ]
  },
  {
   "cell_type": "code",
   "execution_count": 10,
   "metadata": {},
   "outputs": [],
   "source": [
    "# US Election 2020: binary - HOF, Non-HOF\n",
    "train_data = read_from_csv(\"data/us-election-2020/train.tsv\")\n",
    "train_data[\"label\"] = 0\n",
    "train_data[\"label\"] = train_data[\"label\"].where(train_data[\"HOF\"] == \"Non-Hateful\", 1)\n",
    "train_data.to_csv(\"./data/us-election-2020/train_clean.csv\", index=False)\n",
    "\n",
    "test_data = read_from_csv(\"data/us-election-2020/test.tsv\")\n",
    "test_data[\"label\"] = 0\n",
    "test_data[\"label\"] = test_data[\"label\"].where(test_data[\"HOF\"] == \"Non-Hateful\", 1)\n",
    "test_data.to_csv(\"./data/us-election-2020/test_clean.csv\", index=False)"
   ]
  },
  {
   "cell_type": "code",
   "execution_count": 13,
   "metadata": {},
   "outputs": [
    {
     "data": {
      "text/plain": [
       "label\n",
       "0    7392\n",
       "1    2662\n",
       "Name: count, dtype: int64"
      ]
     },
     "execution_count": 13,
     "metadata": {},
     "output_type": "execute_result"
    }
   ],
   "source": [
    "# Waseem-and-Hovy 2016: bin - 0: neither, 1: sexism or racism\n",
    "data = read_from_csv(\"data/waseem-and-hovy-2016/srw.csv\")\n",
    "data[\"label\"] = 0\n",
    "data[\"label\"] = data[\"label\"].where(data[\"category\"] == \"none\", 1)\n",
    "data = data.dropna().reset_index(drop=True)\n",
    "# data.to_csv(\"./data/waseem-and-hovy-2016/data_clean.csv\", index=False)\n",
    "data.label.value_counts()"
   ]
  },
  {
   "cell_type": "code",
   "execution_count": null,
   "metadata": {},
   "outputs": [],
   "source": []
  },
  {
   "cell_type": "code",
   "execution_count": 1,
   "metadata": {},
   "outputs": [],
   "source": [
    "import torch\n",
    "torch.cuda.empty_cache()"
   ]
  },
  {
   "cell_type": "code",
   "execution_count": 8,
   "metadata": {},
   "outputs": [
    {
     "name": "stdout",
     "output_type": "stream",
     "text": [
      "tensor(True)\n"
     ]
    }
   ],
   "source": [
    "import torch\n",
    "x = torch.randn(10, 5)\n",
    "target = torch.randint(0, 5, (10,))\n",
    "\n",
    "weights = torch.tensor([1., 2., 3., 4., 5.])\n",
    "criterion_weighted = torch.nn.CrossEntropyLoss(weight=weights)\n",
    "loss_weighted = criterion_weighted(x, target)\n",
    "\n",
    "criterion_weighted_manual = torch.nn.CrossEntropyLoss(weight=weights, reduction='none')\n",
    "loss_weighted_manual = criterion_weighted_manual(x, target)\n",
    "loss_weighted_manual = loss_weighted_manual.sum() / weights[target].sum()\n",
    "\n",
    "print(loss_weighted == loss_weighted_manual)"
   ]
  },
  {
   "cell_type": "code",
   "execution_count": 30,
   "metadata": {},
   "outputs": [],
   "source": [
    "import torch\n",
    "from torch.nn import Softmax\n",
    "logits = torch.tensor([[0.1, -0.3, 0.6], [-0.1, 0.2, 0.1]])\n",
    "prior = {0: 0.6, 1: 0.3, 2: 0.1}\n",
    "y = torch.tensor([0, 2])"
   ]
  },
  {
   "cell_type": "code",
   "execution_count": 41,
   "metadata": {},
   "outputs": [],
   "source": [
    "prior_ys = torch.tensor([prior[yi] for yi in y.tolist()]).unsqueeze(1)"
   ]
  },
  {
   "cell_type": "code",
   "execution_count": 42,
   "metadata": {},
   "outputs": [
    {
     "data": {
      "text/plain": [
       "tensor([[ 0.1667, -0.5000,  1.0000],\n",
       "        [-1.0000,  2.0000,  1.0000]])"
      ]
     },
     "execution_count": 42,
     "metadata": {},
     "output_type": "execute_result"
    }
   ],
   "source": [
    "x / prior_ys"
   ]
  },
  {
   "cell_type": "code",
   "execution_count": null,
   "metadata": {},
   "outputs": [],
   "source": []
  }
 ],
 "metadata": {
  "kernelspec": {
   "display_name": "ailab",
   "language": "python",
   "name": "python3"
  },
  "language_info": {
   "codemirror_mode": {
    "name": "ipython",
    "version": 3
   },
   "file_extension": ".py",
   "mimetype": "text/x-python",
   "name": "python",
   "nbconvert_exporter": "python",
   "pygments_lexer": "ipython3",
   "version": "3.12.2"
  }
 },
 "nbformat": 4,
 "nbformat_minor": 2
}
