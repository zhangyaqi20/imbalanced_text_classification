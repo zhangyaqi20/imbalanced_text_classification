{
 "cells": [
  {
   "cell_type": "code",
   "execution_count": 2,
   "metadata": {},
   "outputs": [],
   "source": [
    "import pandas as pd\n",
    "def read_from_csv(data_name):\n",
    "    if \"tsv\" in data_name:\n",
    "        data = pd.read_csv(data_name,\n",
    "                            sep='\\t',\n",
    "                            encoding = \"utf-8\",\n",
    "                            engine = \"python\",\n",
    "                            header = 0)\n",
    "    elif \"csv\" in data_name:\n",
    "        data = pd.read_csv(data_name,\n",
    "                        encoding = \"utf-8\",\n",
    "                        engine = \"python\",\n",
    "                        header = 0)\n",
    "    else:\n",
    "        raise NotImplementedError(\"Given data file type is not supported yet.\")\n",
    "    return data\n",
    "\n",
    "def print_data_info(data, split, label_col):\n",
    "    label_counts = data[label_col].value_counts().to_dict()\n",
    "    output = f\"{split}\\t{len(data)}\"\n",
    "    for label in sorted(label_counts.keys()):\n",
    "        output += f\"\\t{label}: {label_counts[label]}, \"\n",
    "        output += \"{:.1%}\".format(label_counts[label]/len(data))\n",
    "    print(output)"
   ]
  },
  {
   "cell_type": "code",
   "execution_count": 10,
   "metadata": {},
   "outputs": [],
   "source": [
    "# US Election 2020: binary - HOF, Non-HOF\n",
    "train_data = read_from_csv(\"data/us-election-2020/train.tsv\")\n",
    "train_data[\"label\"] = 0\n",
    "train_data[\"label\"] = train_data[\"label\"].where(train_data[\"HOF\"] == \"Non-Hateful\", 1)\n",
    "train_data.to_csv(\"./data/us-election-2020/train_clean.csv\", index=False)\n",
    "\n",
    "test_data = read_from_csv(\"data/us-election-2020/test.tsv\")\n",
    "test_data[\"label\"] = 0\n",
    "test_data[\"label\"] = test_data[\"label\"].where(test_data[\"HOF\"] == \"Non-Hateful\", 1)\n",
    "test_data.to_csv(\"./data/us-election-2020/test_clean.csv\", index=False)"
   ]
  },
  {
   "cell_type": "code",
   "execution_count": 11,
   "metadata": {},
   "outputs": [],
   "source": [
    "# Davidson-THON: multi - 0: hate speech, 1: offensive language, 2: neither\n",
    "data = read_from_csv(\"data/davidson-thon/davidson-thon.csv\")\n",
    "data = data.rename(columns={\"tweet\": \"text\"})\n",
    "data = data.rename(columns={\"class\": \"label_multi\"})\n",
    "data = data[[\"text\", \"label_multi\"]]\n",
    "data.to_csv(\"./data/davidson-thon/data_clean.csv\", index=False)"
   ]
  },
  {
   "cell_type": "code",
   "execution_count": 31,
   "metadata": {},
   "outputs": [],
   "source": [
    "# Waseem-and-Hovy 2016: bin - 0: neither, 1: sexism or racism\n",
    "data = read_from_csv(\"data/waseem-and-hovy-2016/srw.csv\")\n",
    "data[\"label\"] = 0\n",
    "data[\"label\"] = data[\"label\"].where(data[\"category\"] == \"none\", 1)\n",
    "data = data.dropna().reset_index(drop=True)\n",
    "data.to_csv(\"./data/waseem-and-hovy-2016/data_clean.csv\", index=False)"
   ]
  },
  {
   "cell_type": "code",
   "execution_count": 1,
   "metadata": {},
   "outputs": [],
   "source": [
    "import torch\n",
    "torch.cuda.empty_cache()"
   ]
  },
  {
   "cell_type": "code",
   "execution_count": 17,
   "metadata": {},
   "outputs": [
    {
     "data": {
      "text/plain": [
       "[1, 5, 3, 5, 3, 0, 5, 3, 3, 1]"
      ]
     },
     "execution_count": 17,
     "metadata": {},
     "output_type": "execute_result"
    }
   ],
   "source": [
    "import torch\n",
    "a = torch.randint(0, 6, (10,)).tolist()\n",
    "a\n"
   ]
  },
  {
   "cell_type": "code",
   "execution_count": 19,
   "metadata": {},
   "outputs": [
    {
     "data": {
      "text/plain": [
       "tensor([10, 50, 30, 50, 30,  0, 50, 30, 30, 10])"
      ]
     },
     "execution_count": 19,
     "metadata": {},
     "output_type": "execute_result"
    }
   ],
   "source": [
    "b = torch.tensor([0,10,20,30,40,50])[a]\n",
    "b"
   ]
  },
  {
   "cell_type": "code",
   "execution_count": null,
   "metadata": {},
   "outputs": [],
   "source": []
  }
 ],
 "metadata": {
  "kernelspec": {
   "display_name": "ailab",
   "language": "python",
   "name": "python3"
  },
  "language_info": {
   "codemirror_mode": {
    "name": "ipython",
    "version": 3
   },
   "file_extension": ".py",
   "mimetype": "text/x-python",
   "name": "python",
   "nbconvert_exporter": "python",
   "pygments_lexer": "ipython3",
   "version": "3.12.2"
  }
 },
 "nbformat": 4,
 "nbformat_minor": 2
}
